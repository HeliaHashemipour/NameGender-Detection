{
  "cells": [
    {
      "cell_type": "code",
      "execution_count": 1,
      "metadata": {
        "id": "w94QUgsBiC_o"
      },
      "outputs": [],
      "source": [
        "import torch"
      ]
    },
    {
      "cell_type": "code",
      "execution_count": 2,
      "metadata": {
        "colab": {
          "base_uri": "https://localhost:8080/"
        },
        "id": "JhrvnhoFiIu9",
        "outputId": "0024d8c5-abeb-46a9-e568-5b8239668df3"
      },
      "outputs": [
        {
          "output_type": "stream",
          "name": "stdout",
          "text": [
            "Mounted at /content/drive\n"
          ]
        }
      ],
      "source": [
        "from google.colab import drive\n",
        "import pandas as pd\n",
        "\n",
        "drive.mount('/content/drive')\n",
        "\n",
        "PATH = '/content/drive/MyDrive/name_gender_dataset.csv'\n",
        "DATASET = pd.read_csv(PATH)"
      ]
    },
    {
      "cell_type": "code",
      "source": [
        "import warnings\n",
        "warnings.filterwarnings('ignore')"
      ],
      "metadata": {
        "id": "DfCHykYRZEHf"
      },
      "execution_count": 3,
      "outputs": []
    },
    {
      "cell_type": "code",
      "source": [
        "import numpy as np\n",
        "import torch\n",
        "\n",
        "import random\n",
        "\n",
        "torch.manual_seed(0)\n",
        "np.random.seed(0)\n",
        "random.seed(0)"
      ],
      "metadata": {
        "id": "gcld6a_yJLhs"
      },
      "execution_count": 4,
      "outputs": []
    },
    {
      "cell_type": "markdown",
      "source": [
        "# **Read and Clean the Data**"
      ],
      "metadata": {
        "id": "ZWsFMKQrhFpJ"
      }
    },
    {
      "cell_type": "code",
      "execution_count": 5,
      "metadata": {
        "colab": {
          "base_uri": "https://localhost:8080/",
          "height": 206
        },
        "id": "yCuP0XN5mFlS",
        "outputId": "ede8b71e-518b-4157-f32c-a0319cc1a7fb"
      },
      "outputs": [
        {
          "output_type": "execute_result",
          "data": {
            "text/plain": [
              "      Name Gender    Count  Probability\n",
              "0    James      M  5304407     0.014517\n",
              "1     John      M  5260831     0.014398\n",
              "2   Robert      M  4970386     0.013603\n",
              "3  Michael      M  4579950     0.012534\n",
              "4  William      M  4226608     0.011567"
            ],
            "text/html": [
              "\n",
              "  <div id=\"df-9369b639-5679-44d4-af5a-255dd087711b\">\n",
              "    <div class=\"colab-df-container\">\n",
              "      <div>\n",
              "<style scoped>\n",
              "    .dataframe tbody tr th:only-of-type {\n",
              "        vertical-align: middle;\n",
              "    }\n",
              "\n",
              "    .dataframe tbody tr th {\n",
              "        vertical-align: top;\n",
              "    }\n",
              "\n",
              "    .dataframe thead th {\n",
              "        text-align: right;\n",
              "    }\n",
              "</style>\n",
              "<table border=\"1\" class=\"dataframe\">\n",
              "  <thead>\n",
              "    <tr style=\"text-align: right;\">\n",
              "      <th></th>\n",
              "      <th>Name</th>\n",
              "      <th>Gender</th>\n",
              "      <th>Count</th>\n",
              "      <th>Probability</th>\n",
              "    </tr>\n",
              "  </thead>\n",
              "  <tbody>\n",
              "    <tr>\n",
              "      <th>0</th>\n",
              "      <td>James</td>\n",
              "      <td>M</td>\n",
              "      <td>5304407</td>\n",
              "      <td>0.014517</td>\n",
              "    </tr>\n",
              "    <tr>\n",
              "      <th>1</th>\n",
              "      <td>John</td>\n",
              "      <td>M</td>\n",
              "      <td>5260831</td>\n",
              "      <td>0.014398</td>\n",
              "    </tr>\n",
              "    <tr>\n",
              "      <th>2</th>\n",
              "      <td>Robert</td>\n",
              "      <td>M</td>\n",
              "      <td>4970386</td>\n",
              "      <td>0.013603</td>\n",
              "    </tr>\n",
              "    <tr>\n",
              "      <th>3</th>\n",
              "      <td>Michael</td>\n",
              "      <td>M</td>\n",
              "      <td>4579950</td>\n",
              "      <td>0.012534</td>\n",
              "    </tr>\n",
              "    <tr>\n",
              "      <th>4</th>\n",
              "      <td>William</td>\n",
              "      <td>M</td>\n",
              "      <td>4226608</td>\n",
              "      <td>0.011567</td>\n",
              "    </tr>\n",
              "  </tbody>\n",
              "</table>\n",
              "</div>\n",
              "      <button class=\"colab-df-convert\" onclick=\"convertToInteractive('df-9369b639-5679-44d4-af5a-255dd087711b')\"\n",
              "              title=\"Convert this dataframe to an interactive table.\"\n",
              "              style=\"display:none;\">\n",
              "        \n",
              "  <svg xmlns=\"http://www.w3.org/2000/svg\" height=\"24px\"viewBox=\"0 0 24 24\"\n",
              "       width=\"24px\">\n",
              "    <path d=\"M0 0h24v24H0V0z\" fill=\"none\"/>\n",
              "    <path d=\"M18.56 5.44l.94 2.06.94-2.06 2.06-.94-2.06-.94-.94-2.06-.94 2.06-2.06.94zm-11 1L8.5 8.5l.94-2.06 2.06-.94-2.06-.94L8.5 2.5l-.94 2.06-2.06.94zm10 10l.94 2.06.94-2.06 2.06-.94-2.06-.94-.94-2.06-.94 2.06-2.06.94z\"/><path d=\"M17.41 7.96l-1.37-1.37c-.4-.4-.92-.59-1.43-.59-.52 0-1.04.2-1.43.59L10.3 9.45l-7.72 7.72c-.78.78-.78 2.05 0 2.83L4 21.41c.39.39.9.59 1.41.59.51 0 1.02-.2 1.41-.59l7.78-7.78 2.81-2.81c.8-.78.8-2.07 0-2.86zM5.41 20L4 18.59l7.72-7.72 1.47 1.35L5.41 20z\"/>\n",
              "  </svg>\n",
              "      </button>\n",
              "      \n",
              "  <style>\n",
              "    .colab-df-container {\n",
              "      display:flex;\n",
              "      flex-wrap:wrap;\n",
              "      gap: 12px;\n",
              "    }\n",
              "\n",
              "    .colab-df-convert {\n",
              "      background-color: #E8F0FE;\n",
              "      border: none;\n",
              "      border-radius: 50%;\n",
              "      cursor: pointer;\n",
              "      display: none;\n",
              "      fill: #1967D2;\n",
              "      height: 32px;\n",
              "      padding: 0 0 0 0;\n",
              "      width: 32px;\n",
              "    }\n",
              "\n",
              "    .colab-df-convert:hover {\n",
              "      background-color: #E2EBFA;\n",
              "      box-shadow: 0px 1px 2px rgba(60, 64, 67, 0.3), 0px 1px 3px 1px rgba(60, 64, 67, 0.15);\n",
              "      fill: #174EA6;\n",
              "    }\n",
              "\n",
              "    [theme=dark] .colab-df-convert {\n",
              "      background-color: #3B4455;\n",
              "      fill: #D2E3FC;\n",
              "    }\n",
              "\n",
              "    [theme=dark] .colab-df-convert:hover {\n",
              "      background-color: #434B5C;\n",
              "      box-shadow: 0px 1px 3px 1px rgba(0, 0, 0, 0.15);\n",
              "      filter: drop-shadow(0px 1px 2px rgba(0, 0, 0, 0.3));\n",
              "      fill: #FFFFFF;\n",
              "    }\n",
              "  </style>\n",
              "\n",
              "      <script>\n",
              "        const buttonEl =\n",
              "          document.querySelector('#df-9369b639-5679-44d4-af5a-255dd087711b button.colab-df-convert');\n",
              "        buttonEl.style.display =\n",
              "          google.colab.kernel.accessAllowed ? 'block' : 'none';\n",
              "\n",
              "        async function convertToInteractive(key) {\n",
              "          const element = document.querySelector('#df-9369b639-5679-44d4-af5a-255dd087711b');\n",
              "          const dataTable =\n",
              "            await google.colab.kernel.invokeFunction('convertToInteractive',\n",
              "                                                     [key], {});\n",
              "          if (!dataTable) return;\n",
              "\n",
              "          const docLinkHtml = 'Like what you see? Visit the ' +\n",
              "            '<a target=\"_blank\" href=https://colab.research.google.com/notebooks/data_table.ipynb>data table notebook</a>'\n",
              "            + ' to learn more about interactive tables.';\n",
              "          element.innerHTML = '';\n",
              "          dataTable['output_type'] = 'display_data';\n",
              "          await google.colab.output.renderOutput(dataTable, element);\n",
              "          const docLink = document.createElement('div');\n",
              "          docLink.innerHTML = docLinkHtml;\n",
              "          element.appendChild(docLink);\n",
              "        }\n",
              "      </script>\n",
              "    </div>\n",
              "  </div>\n",
              "  "
            ]
          },
          "metadata": {},
          "execution_count": 5
        }
      ],
      "source": [
        "DATASET.head()"
      ]
    },
    {
      "cell_type": "code",
      "execution_count": 6,
      "metadata": {
        "colab": {
          "base_uri": "https://localhost:8080/"
        },
        "id": "GNuk7xiVmHos",
        "outputId": "b30fce3a-5d96-4bed-99b2-1aca46dbca61"
      },
      "outputs": [
        {
          "output_type": "stream",
          "name": "stdout",
          "text": [
            "<class 'pandas.core.frame.DataFrame'>\n",
            "RangeIndex: 147269 entries, 0 to 147268\n",
            "Data columns (total 4 columns):\n",
            " #   Column       Non-Null Count   Dtype  \n",
            "---  ------       --------------   -----  \n",
            " 0   Name         147269 non-null  object \n",
            " 1   Gender       147269 non-null  object \n",
            " 2   Count        147269 non-null  int64  \n",
            " 3   Probability  147269 non-null  float64\n",
            "dtypes: float64(1), int64(1), object(2)\n",
            "memory usage: 4.5+ MB\n"
          ]
        }
      ],
      "source": [
        "DATASET.info()"
      ]
    },
    {
      "cell_type": "code",
      "execution_count": 7,
      "metadata": {
        "colab": {
          "base_uri": "https://localhost:8080/",
          "height": 300
        },
        "id": "dvHASd4nmMm6",
        "outputId": "3a3a53d0-277f-4fb8-9704-4ea08f898b19"
      },
      "outputs": [
        {
          "output_type": "execute_result",
          "data": {
            "text/plain": [
              "              Count   Probability\n",
              "count  1.472690e+05  1.472690e+05\n",
              "mean   2.481161e+03  6.790295e-06\n",
              "std    4.645472e+04  1.271345e-04\n",
              "min    1.000000e+00  2.736740e-09\n",
              "25%    5.000000e+00  1.368370e-08\n",
              "50%    1.700000e+01  4.652460e-08\n",
              "75%    1.320000e+02  3.612500e-07\n",
              "max    5.304407e+06  1.451679e-02"
            ],
            "text/html": [
              "\n",
              "  <div id=\"df-f531da87-d53c-40df-b0a0-90a774eab260\">\n",
              "    <div class=\"colab-df-container\">\n",
              "      <div>\n",
              "<style scoped>\n",
              "    .dataframe tbody tr th:only-of-type {\n",
              "        vertical-align: middle;\n",
              "    }\n",
              "\n",
              "    .dataframe tbody tr th {\n",
              "        vertical-align: top;\n",
              "    }\n",
              "\n",
              "    .dataframe thead th {\n",
              "        text-align: right;\n",
              "    }\n",
              "</style>\n",
              "<table border=\"1\" class=\"dataframe\">\n",
              "  <thead>\n",
              "    <tr style=\"text-align: right;\">\n",
              "      <th></th>\n",
              "      <th>Count</th>\n",
              "      <th>Probability</th>\n",
              "    </tr>\n",
              "  </thead>\n",
              "  <tbody>\n",
              "    <tr>\n",
              "      <th>count</th>\n",
              "      <td>1.472690e+05</td>\n",
              "      <td>1.472690e+05</td>\n",
              "    </tr>\n",
              "    <tr>\n",
              "      <th>mean</th>\n",
              "      <td>2.481161e+03</td>\n",
              "      <td>6.790295e-06</td>\n",
              "    </tr>\n",
              "    <tr>\n",
              "      <th>std</th>\n",
              "      <td>4.645472e+04</td>\n",
              "      <td>1.271345e-04</td>\n",
              "    </tr>\n",
              "    <tr>\n",
              "      <th>min</th>\n",
              "      <td>1.000000e+00</td>\n",
              "      <td>2.736740e-09</td>\n",
              "    </tr>\n",
              "    <tr>\n",
              "      <th>25%</th>\n",
              "      <td>5.000000e+00</td>\n",
              "      <td>1.368370e-08</td>\n",
              "    </tr>\n",
              "    <tr>\n",
              "      <th>50%</th>\n",
              "      <td>1.700000e+01</td>\n",
              "      <td>4.652460e-08</td>\n",
              "    </tr>\n",
              "    <tr>\n",
              "      <th>75%</th>\n",
              "      <td>1.320000e+02</td>\n",
              "      <td>3.612500e-07</td>\n",
              "    </tr>\n",
              "    <tr>\n",
              "      <th>max</th>\n",
              "      <td>5.304407e+06</td>\n",
              "      <td>1.451679e-02</td>\n",
              "    </tr>\n",
              "  </tbody>\n",
              "</table>\n",
              "</div>\n",
              "      <button class=\"colab-df-convert\" onclick=\"convertToInteractive('df-f531da87-d53c-40df-b0a0-90a774eab260')\"\n",
              "              title=\"Convert this dataframe to an interactive table.\"\n",
              "              style=\"display:none;\">\n",
              "        \n",
              "  <svg xmlns=\"http://www.w3.org/2000/svg\" height=\"24px\"viewBox=\"0 0 24 24\"\n",
              "       width=\"24px\">\n",
              "    <path d=\"M0 0h24v24H0V0z\" fill=\"none\"/>\n",
              "    <path d=\"M18.56 5.44l.94 2.06.94-2.06 2.06-.94-2.06-.94-.94-2.06-.94 2.06-2.06.94zm-11 1L8.5 8.5l.94-2.06 2.06-.94-2.06-.94L8.5 2.5l-.94 2.06-2.06.94zm10 10l.94 2.06.94-2.06 2.06-.94-2.06-.94-.94-2.06-.94 2.06-2.06.94z\"/><path d=\"M17.41 7.96l-1.37-1.37c-.4-.4-.92-.59-1.43-.59-.52 0-1.04.2-1.43.59L10.3 9.45l-7.72 7.72c-.78.78-.78 2.05 0 2.83L4 21.41c.39.39.9.59 1.41.59.51 0 1.02-.2 1.41-.59l7.78-7.78 2.81-2.81c.8-.78.8-2.07 0-2.86zM5.41 20L4 18.59l7.72-7.72 1.47 1.35L5.41 20z\"/>\n",
              "  </svg>\n",
              "      </button>\n",
              "      \n",
              "  <style>\n",
              "    .colab-df-container {\n",
              "      display:flex;\n",
              "      flex-wrap:wrap;\n",
              "      gap: 12px;\n",
              "    }\n",
              "\n",
              "    .colab-df-convert {\n",
              "      background-color: #E8F0FE;\n",
              "      border: none;\n",
              "      border-radius: 50%;\n",
              "      cursor: pointer;\n",
              "      display: none;\n",
              "      fill: #1967D2;\n",
              "      height: 32px;\n",
              "      padding: 0 0 0 0;\n",
              "      width: 32px;\n",
              "    }\n",
              "\n",
              "    .colab-df-convert:hover {\n",
              "      background-color: #E2EBFA;\n",
              "      box-shadow: 0px 1px 2px rgba(60, 64, 67, 0.3), 0px 1px 3px 1px rgba(60, 64, 67, 0.15);\n",
              "      fill: #174EA6;\n",
              "    }\n",
              "\n",
              "    [theme=dark] .colab-df-convert {\n",
              "      background-color: #3B4455;\n",
              "      fill: #D2E3FC;\n",
              "    }\n",
              "\n",
              "    [theme=dark] .colab-df-convert:hover {\n",
              "      background-color: #434B5C;\n",
              "      box-shadow: 0px 1px 3px 1px rgba(0, 0, 0, 0.15);\n",
              "      filter: drop-shadow(0px 1px 2px rgba(0, 0, 0, 0.3));\n",
              "      fill: #FFFFFF;\n",
              "    }\n",
              "  </style>\n",
              "\n",
              "      <script>\n",
              "        const buttonEl =\n",
              "          document.querySelector('#df-f531da87-d53c-40df-b0a0-90a774eab260 button.colab-df-convert');\n",
              "        buttonEl.style.display =\n",
              "          google.colab.kernel.accessAllowed ? 'block' : 'none';\n",
              "\n",
              "        async function convertToInteractive(key) {\n",
              "          const element = document.querySelector('#df-f531da87-d53c-40df-b0a0-90a774eab260');\n",
              "          const dataTable =\n",
              "            await google.colab.kernel.invokeFunction('convertToInteractive',\n",
              "                                                     [key], {});\n",
              "          if (!dataTable) return;\n",
              "\n",
              "          const docLinkHtml = 'Like what you see? Visit the ' +\n",
              "            '<a target=\"_blank\" href=https://colab.research.google.com/notebooks/data_table.ipynb>data table notebook</a>'\n",
              "            + ' to learn more about interactive tables.';\n",
              "          element.innerHTML = '';\n",
              "          dataTable['output_type'] = 'display_data';\n",
              "          await google.colab.output.renderOutput(dataTable, element);\n",
              "          const docLink = document.createElement('div');\n",
              "          docLink.innerHTML = docLinkHtml;\n",
              "          element.appendChild(docLink);\n",
              "        }\n",
              "      </script>\n",
              "    </div>\n",
              "  </div>\n",
              "  "
            ]
          },
          "metadata": {},
          "execution_count": 7
        }
      ],
      "source": [
        "DATASET.describe()"
      ]
    },
    {
      "cell_type": "code",
      "execution_count": 8,
      "metadata": {
        "colab": {
          "base_uri": "https://localhost:8080/"
        },
        "id": "4U0ZituZmSVe",
        "outputId": "2a633f1a-1382-4db4-ffc5-f46beee47e88"
      },
      "outputs": [
        {
          "output_type": "execute_result",
          "data": {
            "text/plain": [
              "<bound method DataFrame.value_counts of            Name Gender    Count   Probability\n",
              "0         James      M  5304407  1.451679e-02\n",
              "1          John      M  5260831  1.439753e-02\n",
              "2        Robert      M  4970386  1.360266e-02\n",
              "3       Michael      M  4579950  1.253414e-02\n",
              "4       William      M  4226608  1.156713e-02\n",
              "...         ...    ...      ...           ...\n",
              "147264   Zylenn      M        1  2.736740e-09\n",
              "147265   Zymeon      M        1  2.736740e-09\n",
              "147266   Zyndel      M        1  2.736740e-09\n",
              "147267   Zyshan      M        1  2.736740e-09\n",
              "147268    Zyton      M        1  2.736740e-09\n",
              "\n",
              "[147269 rows x 4 columns]>"
            ]
          },
          "metadata": {},
          "execution_count": 8
        }
      ],
      "source": [
        "DATASET.value_counts"
      ]
    },
    {
      "cell_type": "code",
      "execution_count": 9,
      "metadata": {
        "id": "F6bsiZsam8pu"
      },
      "outputs": [],
      "source": [
        "SRC = DATASET.Name.values.tolist()       \n",
        "TRG = DATASET.Gender.values.tolist()       "
      ]
    },
    {
      "cell_type": "code",
      "execution_count": 10,
      "metadata": {
        "id": "LrEuishAn0YQ"
      },
      "outputs": [],
      "source": [
        "# print(SRC)"
      ]
    },
    {
      "cell_type": "code",
      "execution_count": 11,
      "metadata": {
        "id": "KjPU1GUloAPH"
      },
      "outputs": [],
      "source": [
        "from sklearn.model_selection import train_test_split\n",
        "\n",
        "TRAIN_DATA, TEST_DATA, TRAIN_LABEL, TEST_LABEL = train_test_split(SRC, TRG, test_size=0.2, random_state=42, shuffle=True)\n",
        "TRAIN_DATA, VALID_DATA, TRAIN_LABEL, VALID_LABEL = train_test_split(TRAIN_DATA, TRAIN_LABEL, test_size=0.1, random_state=42, shuffle=True)"
      ]
    },
    {
      "cell_type": "code",
      "execution_count": 12,
      "metadata": {
        "id": "5RR5mo2coOAV"
      },
      "outputs": [],
      "source": [
        "# print(TRAIN_DATA)"
      ]
    },
    {
      "cell_type": "markdown",
      "source": [
        "# **Create Vocabulary of the characters**"
      ],
      "metadata": {
        "id": "1NGQkep0hOgv"
      }
    },
    {
      "cell_type": "code",
      "execution_count": 13,
      "metadata": {
        "colab": {
          "base_uri": "https://localhost:8080/"
        },
        "id": "rV5p1lVooS62",
        "outputId": "63b9193a-08b4-4ee9-ea33-afbd3ef0aec8"
      },
      "outputs": [
        {
          "output_type": "stream",
          "name": "stdout",
          "text": [
            "{'e', 'g', 'n', '…', ')', ',', '0', 'p', '?', 'c', 'w', ';', 'o', 'q', 'y', '9', '(', 'f', '/', '1', 'l', 'x', '¡', '7', \"'\", 'u', 'b', 'k', '5', 'm', 'a', '@', '[', 'z', '-', 'v', 't', 'à', 's', 'i', 'r', 'h', '8', 'j', '.', 'œ', 'd', 'ö'}\n"
          ]
        }
      ],
      "source": [
        "'''convert to the char '''\n",
        "char_set = set()\n",
        "\n",
        "for name in TRAIN_DATA:\n",
        "    for ch in list(name):\n",
        "        char_set.add(ch.lower())\n",
        "\n",
        "print(char_set)"
      ]
    },
    {
      "cell_type": "code",
      "execution_count": 14,
      "metadata": {
        "id": "BH3ZUEiuo1ZL"
      },
      "outputs": [],
      "source": [
        "CHAR2INDEX = {char: indx + 2 for indx, char in enumerate(char_set)}\n",
        "CHAR2INDEX['<UNK>'] = 1 # for OOV\n",
        "CHAR2INDEX['<PAD>'] = 0 # for PADDING\n",
        "\n",
        "\n",
        "INDEX2CHAR = {indx + 2: char for indx, char in enumerate(char_set)}\n",
        "INDEX2CHAR[1] = '<UNK>' # for OOV\n",
        "INDEX2CHAR[0] = '<PAD>' # for PADDING"
      ]
    },
    {
      "cell_type": "code",
      "execution_count": 15,
      "metadata": {
        "colab": {
          "base_uri": "https://localhost:8080/"
        },
        "id": "Djgww8yapcGp",
        "outputId": "4195de22-0d39-42c3-fad3-55bd09c826ad"
      },
      "outputs": [
        {
          "output_type": "stream",
          "name": "stdout",
          "text": [
            "{'e': 2, 'g': 3, 'n': 4, '…': 5, ')': 6, ',': 7, '0': 8, 'p': 9, '?': 10, 'c': 11, 'w': 12, ';': 13, 'o': 14, 'q': 15, 'y': 16, '9': 17, '(': 18, 'f': 19, '/': 20, '1': 21, 'l': 22, 'x': 23, '¡': 24, '7': 25, \"'\": 26, 'u': 27, 'b': 28, 'k': 29, '5': 30, 'm': 31, 'a': 32, '@': 33, '[': 34, 'z': 35, '-': 36, 'v': 37, 't': 38, 'à': 39, 's': 40, 'i': 41, 'r': 42, 'h': 43, '8': 44, 'j': 45, '.': 46, 'œ': 47, 'd': 48, 'ö': 49, '<UNK>': 1, '<PAD>': 0}\n",
            "{2: 'e', 3: 'g', 4: 'n', 5: '…', 6: ')', 7: ',', 8: '0', 9: 'p', 10: '?', 11: 'c', 12: 'w', 13: ';', 14: 'o', 15: 'q', 16: 'y', 17: '9', 18: '(', 19: 'f', 20: '/', 21: '1', 22: 'l', 23: 'x', 24: '¡', 25: '7', 26: \"'\", 27: 'u', 28: 'b', 29: 'k', 30: '5', 31: 'm', 32: 'a', 33: '@', 34: '[', 35: 'z', 36: '-', 37: 'v', 38: 't', 39: 'à', 40: 's', 41: 'i', 42: 'r', 43: 'h', 44: '8', 45: 'j', 46: '.', 47: 'œ', 48: 'd', 49: 'ö', 1: '<UNK>', 0: '<PAD>'}\n"
          ]
        }
      ],
      "source": [
        "print(CHAR2INDEX)\n",
        "print(INDEX2CHAR)"
      ]
    },
    {
      "cell_type": "code",
      "execution_count": 16,
      "metadata": {
        "id": "WOFmCwJVr65B"
      },
      "outputs": [],
      "source": [
        "LABEL2INDEX = {'M':0,'F':1}\n",
        "INDEX2LABEL = {0:'M',1:'F'}"
      ]
    },
    {
      "cell_type": "code",
      "execution_count": 17,
      "metadata": {
        "colab": {
          "base_uri": "https://localhost:8080/"
        },
        "id": "3tP_pH2VsK1E",
        "outputId": "c3cb8017-f469-45a7-c168-bb3829e1d925"
      },
      "outputs": [
        {
          "output_type": "stream",
          "name": "stdout",
          "text": [
            "{'M': 0, 'F': 1}\n",
            "{0: 'M', 1: 'F'}\n"
          ]
        }
      ],
      "source": [
        "print(LABEL2INDEX)\n",
        "print(INDEX2LABEL)"
      ]
    },
    {
      "cell_type": "code",
      "execution_count": 18,
      "metadata": {
        "colab": {
          "base_uri": "https://localhost:8080/"
        },
        "id": "WOhF8VrKp4_W",
        "outputId": "e3e96a2e-677e-4bbf-fd2a-2a389a1541d9"
      },
      "outputs": [
        {
          "output_type": "stream",
          "name": "stdout",
          "text": [
            "Device: cuda\n"
          ]
        }
      ],
      "source": [
        "# set device to CUDA if available, else to CPU\n",
        "DEVICE = torch.device('cuda' if torch.cuda.is_available() else 'cpu')\n",
        "print('Device:', DEVICE)"
      ]
    },
    {
      "cell_type": "markdown",
      "source": [
        "# **Create a Dataset class**"
      ],
      "metadata": {
        "id": "meUh7VLIih7j"
      }
    },
    {
      "cell_type": "code",
      "execution_count": 19,
      "metadata": {
        "id": "z7yJeqsYp88i"
      },
      "outputs": [],
      "source": [
        "from torch.utils.data import Dataset, DataLoader\n",
        "\n",
        "class DATASET(Dataset):\n",
        "  def __init__(self, names, genders,mapping_data, mapping_label):\n",
        "    self.names= names\n",
        "    self.names = [indexing(name,mapping_data) for name in names]\n",
        "    self.genders = genders\n",
        "    self.genders = [mapping_label[gender] for gender in self.genders]\n",
        "    self.length = len(self.names)\n",
        "    \n",
        "  def __getitem__(self, item):\n",
        "    return self.names[item], self.genders[item]\n",
        "  def __len__(self):\n",
        "    return self.length"
      ]
    },
    {
      "cell_type": "code",
      "execution_count": 20,
      "metadata": {
        "id": "0nhMJgTgp8-3"
      },
      "outputs": [],
      "source": [
        "def indexing(name,mapping_data):\n",
        "  return [mapping_data[char.lower()] if char.lower() in mapping_data else mapping_data['<UNK>'] for char in name]"
      ]
    },
    {
      "cell_type": "code",
      "execution_count": 21,
      "metadata": {
        "id": "hWIx6ZL2p9Ao"
      },
      "outputs": [],
      "source": [
        "DATASET_TRAIN = DATASET(names=TRAIN_DATA, genders=TRAIN_LABEL, mapping_data=CHAR2INDEX,\n",
        "                              mapping_label=LABEL2INDEX)\n",
        "DATASET_VALID = DATASET(names=VALID_DATA, genders=VALID_LABEL, mapping_data=CHAR2INDEX,\n",
        "                              mapping_label=LABEL2INDEX)\n",
        "DATASET_TEST = DATASET(names=TEST_DATA, genders=TEST_LABEL, mapping_data=CHAR2INDEX,\n",
        "                              mapping_label=LABEL2INDEX)"
      ]
    },
    {
      "cell_type": "code",
      "execution_count": 22,
      "metadata": {
        "id": "dx_iHslCp9Cs"
      },
      "outputs": [],
      "source": [
        "# (DATASET_TRAIN.names)"
      ]
    },
    {
      "cell_type": "code",
      "execution_count": 23,
      "metadata": {
        "id": "Vzo7qne9p9Eg"
      },
      "outputs": [],
      "source": [
        "# print(DATASET_TRAIN.genders)"
      ]
    },
    {
      "cell_type": "code",
      "execution_count": 24,
      "metadata": {
        "id": "c1aJNf52sYt1"
      },
      "outputs": [],
      "source": [
        "from torch import nn\n",
        "from torch.nn.utils.rnn import pad_sequence\n",
        "\n",
        "def pad_collate(batch):\n",
        "  (data, label) = zip(*batch)\n",
        "  data = [torch.tensor(i, dtype=torch.int) for i in data]\n",
        "  label = torch.tensor(label, dtype=torch.float)\n",
        "\n",
        "  data = pad_sequence(data, batch_first=True, padding_value=0)\n",
        "  data = torch.tensor(data, dtype=torch.int)\n",
        "\n",
        "  return data, label"
      ]
    },
    {
      "cell_type": "markdown",
      "source": [
        "![10fig10_alt.jpg](data:image/jpeg;base64,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)"
      ],
      "metadata": {
        "id": "juiAGyhWjD1d"
      }
    },
    {
      "cell_type": "code",
      "execution_count": 25,
      "metadata": {
        "id": "RrVYdgUxsjgC"
      },
      "outputs": [],
      "source": [
        "\"\"\" Hyper-Parameter Definition \"\"\"\n",
        "\n",
        "BATCH_SIZE = 50\n",
        "EPOCH_SIZE = 30\n",
        "\n",
        "INPUT_SIZE = len(CHAR2INDEX)\n",
        "HIDDEN_SIZE = 256\n",
        "OUTPUT_DIM = 1\n",
        "N_LAYERS = 1\n",
        "LEARNING_RATE = 0.001\n",
        "\n",
        "'''\n",
        "Data Loader\n",
        "'''\n",
        "DATALOADER_TRAIN = DataLoader(dataset=DATASET_TRAIN,\n",
        "                              batch_size=BATCH_SIZE,\n",
        "                              num_workers=4,\n",
        "                              collate_fn=pad_collate)\n",
        "\n",
        "DATALOADER_TEST = DataLoader(dataset=DATASET_TEST,\n",
        "                              batch_size=BATCH_SIZE,\n",
        "                              num_workers=4,\n",
        "                              collate_fn=pad_collate)\n",
        "\n",
        "DATALOADER_VALID = DataLoader(dataset=DATASET_VALID,\n",
        "                              batch_size=BATCH_SIZE,\n",
        "                              num_workers=4,\n",
        "                              collate_fn=pad_collate)"
      ]
    },
    {
      "cell_type": "code",
      "execution_count": 26,
      "metadata": {
        "id": "iwGNf6Klt_Ji"
      },
      "outputs": [],
      "source": [
        "# iter(DATALOADER_TRAIN).next()\n"
      ]
    },
    {
      "cell_type": "markdown",
      "source": [
        "# Create model"
      ],
      "metadata": {
        "id": "b2ZzyiQajNlw"
      }
    },
    {
      "cell_type": "code",
      "execution_count": 27,
      "metadata": {
        "id": "Nfkwk70htt9t"
      },
      "outputs": [],
      "source": [
        "from torch.nn.functional import sigmoid\n",
        "\n",
        "class MODEL_Gender(nn.Module):\n",
        "  def __init__(self, input_size, hidden_size, output_dim, n_layers, batch_size):\n",
        "    super(MODEL_Gender,self).__init__()\n",
        "    self.input_size=input_size\n",
        "    self.hidden_size=hidden_size\n",
        "    self.output_dim=output_dim\n",
        "    self.n_layers=n_layers\n",
        "    self.batch_size=batch_size\n",
        "\n",
        "    self.embedding= nn.Embedding(input_size,self.hidden_size)\n",
        "\n",
        "    self.lstm=nn.LSTM(self.hidden_size, \n",
        "                      self.hidden_size, \n",
        "                      self.n_layers\n",
        "                      )\n",
        "    \n",
        "    self.fully_connected = nn.Linear(hidden_size,\n",
        "                                     output_dim)\n",
        "\n",
        "  \n",
        "  def forward(self, input):\n",
        "      # input: [batch size, sent len]  --> [sent len, batch size]\n",
        "      # print(input.size(0))\n",
        "\n",
        "      # print(input.T)\n",
        "      self.sent_len=input.size(0)\n",
        "      input=input.T\n",
        "\n",
        "      # Embedding: [sent len, batch size] --> [sent len, batch size, hidden size]\n",
        "      embedded = self.embedding(input)\n",
        "      self.batch_size = embedded.size(1)\n",
        "      # output = [sent len, batch size, hidden size]\n",
        "      # hidden =  [Direction * num_layers, Batch size, hidden size]\n",
        "      output, (hidden, cell) = self.lstm(embedded)\n",
        "\n",
        "      fc_output = self.fully_connected(hidden[-1, :])\n",
        "      fc_output = fc_output.view(-1).to(DEVICE)\n",
        "\n",
        "      return sigmoid(fc_output)\n"
      ]
    },
    {
      "cell_type": "code",
      "source": [
        "\"\"\" Step 1: Model class in PyTorch way \"\"\"\n",
        "MODEL =  MODEL_Gender(\n",
        "              input_size=INPUT_SIZE,\n",
        "              hidden_size=HIDDEN_SIZE,\n",
        "              output_dim=OUTPUT_DIM, \n",
        "              n_layers=N_LAYERS,\n",
        "              batch_size=BATCH_SIZE\n",
        "              )\n",
        "MODEL.to(DEVICE)"
      ],
      "metadata": {
        "colab": {
          "base_uri": "https://localhost:8080/"
        },
        "id": "iLwAvu8SFGuS",
        "outputId": "a57184c1-83c2-4f5e-c7b1-7916d707e5da"
      },
      "execution_count": 28,
      "outputs": [
        {
          "output_type": "execute_result",
          "data": {
            "text/plain": [
              "MODEL_Gender(\n",
              "  (embedding): Embedding(50, 256)\n",
              "  (lstm): LSTM(256, 256)\n",
              "  (fully_connected): Linear(in_features=256, out_features=1, bias=True)\n",
              ")"
            ]
          },
          "metadata": {},
          "execution_count": 28
        }
      ]
    },
    {
      "cell_type": "code",
      "source": [
        "MODEL.forward"
      ],
      "metadata": {
        "colab": {
          "base_uri": "https://localhost:8080/"
        },
        "id": "e_0wyTY7R04B",
        "outputId": "a6e02a07-6ad3-4a9c-a6a9-be8beb4b6118"
      },
      "execution_count": 29,
      "outputs": [
        {
          "output_type": "execute_result",
          "data": {
            "text/plain": [
              "<bound method MODEL_Gender.forward of MODEL_Gender(\n",
              "  (embedding): Embedding(50, 256)\n",
              "  (lstm): LSTM(256, 256)\n",
              "  (fully_connected): Linear(in_features=256, out_features=1, bias=True)\n",
              ")>"
            ]
          },
          "metadata": {},
          "execution_count": 29
        }
      ]
    },
    {
      "cell_type": "code",
      "source": [
        "# !git clone --quiet https://github.com/tensorflow/models.git"
      ],
      "metadata": {
        "id": "0fPA_7l-IHd3"
      },
      "execution_count": 30,
      "outputs": []
    },
    {
      "cell_type": "code",
      "source": [
        "# !apt-get install -qq protobuf-compiler python-tk\n",
        "\n",
        "# !pip install -q Cython contextlib2 pillow lxml matplotlib PyDrive\n",
        "\n",
        "# !pip install -q pycocotools\n",
        "\n",
        "# !pip install tensorflow-object-detection-api\n",
        "\n",
        "# !pip install tf_slim tensorflow_io   # added\n",
        "\n",
        "# %cd /content/models/research   # modified\n",
        "# !protoc object_detection/protos/*.proto --python_out=.\n",
        "\n",
        "# import os\n",
        "# os.environ['PYTHONPATH'] += ':/content/models/research/:/content/models/research/slim/:/content/models/'   # modified\n",
        "\n",
        "# !python object_detection/builders/model_builder_test.py"
      ],
      "metadata": {
        "id": "0UwauApVIKe0"
      },
      "execution_count": 31,
      "outputs": []
    },
    {
      "cell_type": "markdown",
      "source": [
        "# **Train the model**"
      ],
      "metadata": {
        "id": "FDx-WoJrjgeJ"
      }
    },
    {
      "cell_type": "code",
      "source": [
        "def binary_acc(y_pred, y_test):\n",
        "    y_pred = torch.tensor(y_pred)\n",
        "    y_test = torch.tensor(y_test)\n",
        "\n",
        "    correct_results_sum = (y_pred == y_test).sum().float()\n",
        "    acc = correct_results_sum / y_test.shape[0]\n",
        "    acc = acc\n",
        "    return acc"
      ],
      "metadata": {
        "id": "N6e759uxME6Y"
      },
      "execution_count": 32,
      "outputs": []
    },
    {
      "cell_type": "code",
      "source": [
        "def save_checkpoint(save_path, model, optimizer, valid_loss):\n",
        "    if not save_path:\n",
        "        return\n",
        "\n",
        "    state_dict = {'model_state_dict': model.state_dict(),\n",
        "                  'optimizer_state_dict': optimizer.state_dict(),\n",
        "                  'valid_loss': valid_loss}\n",
        "\n",
        "    torch.save(state_dict, save_path)\n",
        "    print(f'Model saved to ==> {save_path}')\n",
        "\n",
        "\n",
        "\n",
        "\n",
        "def load_checkpoint(load_path, model, optimizer):\n",
        "    if not load_path:\n",
        "        return\n",
        "\n",
        "    state_dict = torch.load(load_path, map_location=DEVICE)\n",
        "    print(f'Model loaded from <== {load_path}')\n",
        "\n",
        "    model.load_state_dict(state_dict['model_state_dict'])\n",
        "    optimizer.load_state_dict(state_dict['optimizer_state_dict'])\n",
        "\n",
        "    return state_dict['valid_loss']"
      ],
      "metadata": {
        "id": "EGHxM2zDMUie"
      },
      "execution_count": 33,
      "outputs": []
    },
    {
      "cell_type": "code",
      "source": [
        "# MODEL.forward()"
      ],
      "metadata": {
        "id": "PWoE0yxPOR79"
      },
      "execution_count": 34,
      "outputs": []
    },
    {
      "cell_type": "code",
      "source": [
        "from tqdm import tqdm\n",
        "\n",
        "\"\"\" Step 2: Construct loss and optimizer  and train the Model\"\"\"\n",
        "CRITERION = torch.nn.BCELoss().to(DEVICE)\n",
        "OPTIMIZER = torch.optim.SGD(MODEL.parameters(), LEARNING_RATE)\n",
        "PATH_MODEL = '/content/drive/MyDrive/best_model.pt'\n",
        "\n",
        "plot_loss_train =[]\n",
        "plot_loss_valid =[]\n",
        "\n",
        "best_accuracy = 0.0\n",
        "CHANGE_VALID_ACCURACY = 0\n",
        "\n",
        "for epoch in tqdm(range(EPOCH_SIZE)):\n",
        "    print(f\"## Epoch {epoch} is running ...\")\n",
        "    MODEL.train()\n",
        "    loss_train_BATCH = []\n",
        "\n",
        "    for BATCH_INDEX, BATCH in enumerate(DATALOADER_TRAIN):\n",
        "        DATA_BATCH, LABEL_BATCH = BATCH\n",
        "        # print(type(DATA_BATCH))\n",
        "        DATA_BATCH = DATA_BATCH.to(DEVICE)\n",
        "        LABEL_BATCH = LABEL_BATCH.to(DEVICE)\n",
        "        out = MODEL(DATA_BATCH)\n",
        "\n",
        "        LOSS = CRITERION(out, LABEL_BATCH)\n",
        "        loss_train_BATCH.append(LOSS.cpu().detach().numpy())\n",
        "        \n",
        "        LOSS.backward()\n",
        "        OPTIMIZER.step()\n",
        "\n",
        "        OPTIMIZER.zero_grad()\n",
        "    plot_loss_train.append(sum(loss_train_BATCH) / len(loss_train_BATCH))\n",
        "        \n",
        "    MODEL.eval()\n",
        "\n",
        "    with torch.no_grad():\n",
        "            loss_valid_BATCH = []\n",
        "\n",
        "            valid_TRUE_LABLES = []\n",
        "            valid_predicted_LABLES = []\n",
        "\n",
        "            for BATCH in DATALOADER_VALID:\n",
        "                DATA_BATCH, LABEL_BATCH = BATCH\n",
        "                DATA_BATCH = DATA_BATCH.to(DEVICE)\n",
        "                LABEL_BATCH = LABEL_BATCH.to(DEVICE)\n",
        "\n",
        "                OUTPUT = MODEL(DATA_BATCH)\n",
        "                LOSS = CRITERION(OUTPUT, LABEL_BATCH)\n",
        "                loss_valid_BATCH.append(LOSS.cpu().detach().numpy())\n",
        "\n",
        "                valid_TRUE_LABLES.extend(LABEL_BATCH.tolist())\n",
        "                valid_predicted_LABLES.extend(torch.round(OUTPUT).tolist())\n",
        "\n",
        "            ACCURACY = binary_acc(y_pred=valid_predicted_LABLES, y_test=valid_TRUE_LABLES)\n",
        "            print(f'Accuracy on Validation Set: {ACCURACY :.2f}%')\n",
        "\n",
        "            if ACCURACY > best_accuracy:\n",
        "                best_accuracy = ACCURACY\n",
        "                save_checkpoint(save_path=PATH_MODEL, model=MODEL,\n",
        "                                optimizer=OPTIMIZER, valid_loss=plot_loss_valid)\n",
        "            elif ACCURACY == best_accuracy:\n",
        "                CHANGE_VALID_ACCURACY += 1\n",
        "\n",
        "            if CHANGE_VALID_ACCURACY == 3:\n",
        "                print(f'Change Valid Accuracy: <<True>> --> Early Stopped.')\n",
        "                break\n",
        "\n",
        "            plot_loss_valid.append(sum(loss_valid_BATCH) / len(loss_valid_BATCH))\n",
        "\n",
        "    print(f'The best validation accuracy is=> {best_accuracy :.2f}%')\n",
        "    print(f\"Training == done.\")"
      ],
      "metadata": {
        "colab": {
          "base_uri": "https://localhost:8080/"
        },
        "id": "iFd8sOXOEdW9",
        "outputId": "a68a1db2-8df0-4650-a66c-e9ea7893abfb"
      },
      "execution_count": 35,
      "outputs": [
        {
          "output_type": "stream",
          "name": "stderr",
          "text": [
            "\r  0%|          | 0/30 [00:00<?, ?it/s]"
          ]
        },
        {
          "output_type": "stream",
          "name": "stdout",
          "text": [
            "## Epoch 0 is running ...\n",
            "Accuracy on Validation Set: 0.61%\n"
          ]
        },
        {
          "output_type": "stream",
          "name": "stderr",
          "text": [
            "\r  3%|▎         | 1/30 [00:11<05:26, 11.26s/it]"
          ]
        },
        {
          "output_type": "stream",
          "name": "stdout",
          "text": [
            "Model saved to ==> /content/drive/MyDrive/best_model.pt\n",
            "The best validation accuracy is=> 0.61%\n",
            "Training == done.\n",
            "## Epoch 1 is running ...\n"
          ]
        },
        {
          "output_type": "stream",
          "name": "stderr",
          "text": [
            "\r  7%|▋         | 2/30 [00:19<04:32,  9.74s/it]"
          ]
        },
        {
          "output_type": "stream",
          "name": "stdout",
          "text": [
            "Accuracy on Validation Set: 0.61%\n",
            "The best validation accuracy is=> 0.61%\n",
            "Training == done.\n",
            "## Epoch 2 is running ...\n"
          ]
        },
        {
          "output_type": "stream",
          "name": "stderr",
          "text": [
            "\r 10%|█         | 3/30 [00:28<04:10,  9.28s/it]"
          ]
        },
        {
          "output_type": "stream",
          "name": "stdout",
          "text": [
            "Accuracy on Validation Set: 0.61%\n",
            "The best validation accuracy is=> 0.61%\n",
            "Training == done.\n",
            "## Epoch 3 is running ...\n"
          ]
        },
        {
          "output_type": "stream",
          "name": "stderr",
          "text": [
            "\r 13%|█▎        | 4/30 [00:37<03:55,  9.07s/it]"
          ]
        },
        {
          "output_type": "stream",
          "name": "stdout",
          "text": [
            "Accuracy on Validation Set: 0.61%\n",
            "The best validation accuracy is=> 0.61%\n",
            "Training == done.\n",
            "## Epoch 4 is running ...\n"
          ]
        },
        {
          "output_type": "stream",
          "name": "stderr",
          "text": [
            "\r 17%|█▋        | 5/30 [00:47<03:52,  9.32s/it]"
          ]
        },
        {
          "output_type": "stream",
          "name": "stdout",
          "text": [
            "Accuracy on Validation Set: 0.61%\n",
            "The best validation accuracy is=> 0.61%\n",
            "Training == done.\n",
            "## Epoch 5 is running ...\n"
          ]
        },
        {
          "output_type": "stream",
          "name": "stderr",
          "text": [
            "\r 20%|██        | 6/30 [00:56<03:42,  9.28s/it]"
          ]
        },
        {
          "output_type": "stream",
          "name": "stdout",
          "text": [
            "Accuracy on Validation Set: 0.61%\n",
            "The best validation accuracy is=> 0.61%\n",
            "Training == done.\n",
            "## Epoch 6 is running ...\n"
          ]
        },
        {
          "output_type": "stream",
          "name": "stderr",
          "text": [
            "\r 23%|██▎       | 7/30 [01:05<03:34,  9.34s/it]"
          ]
        },
        {
          "output_type": "stream",
          "name": "stdout",
          "text": [
            "Accuracy on Validation Set: 0.64%\n",
            "Model saved to ==> /content/drive/MyDrive/best_model.pt\n",
            "The best validation accuracy is=> 0.64%\n",
            "Training == done.\n",
            "## Epoch 7 is running ...\n"
          ]
        },
        {
          "output_type": "stream",
          "name": "stderr",
          "text": [
            "\r 27%|██▋       | 8/30 [01:14<03:21,  9.15s/it]"
          ]
        },
        {
          "output_type": "stream",
          "name": "stdout",
          "text": [
            "Accuracy on Validation Set: 0.70%\n",
            "Model saved to ==> /content/drive/MyDrive/best_model.pt\n",
            "The best validation accuracy is=> 0.70%\n",
            "Training == done.\n",
            "## Epoch 8 is running ...\n"
          ]
        },
        {
          "output_type": "stream",
          "name": "stderr",
          "text": [
            "\r 30%|███       | 9/30 [01:23<03:10,  9.07s/it]"
          ]
        },
        {
          "output_type": "stream",
          "name": "stdout",
          "text": [
            "Accuracy on Validation Set: 0.72%\n",
            "Model saved to ==> /content/drive/MyDrive/best_model.pt\n",
            "The best validation accuracy is=> 0.72%\n",
            "Training == done.\n",
            "## Epoch 9 is running ...\n"
          ]
        },
        {
          "output_type": "stream",
          "name": "stderr",
          "text": [
            "\r 33%|███▎      | 10/30 [01:32<02:59,  8.97s/it]"
          ]
        },
        {
          "output_type": "stream",
          "name": "stdout",
          "text": [
            "Accuracy on Validation Set: 0.73%\n",
            "Model saved to ==> /content/drive/MyDrive/best_model.pt\n",
            "The best validation accuracy is=> 0.73%\n",
            "Training == done.\n",
            "## Epoch 10 is running ...\n"
          ]
        },
        {
          "output_type": "stream",
          "name": "stderr",
          "text": [
            "\r 37%|███▋      | 11/30 [01:40<02:48,  8.88s/it]"
          ]
        },
        {
          "output_type": "stream",
          "name": "stdout",
          "text": [
            "Accuracy on Validation Set: 0.73%\n",
            "Model saved to ==> /content/drive/MyDrive/best_model.pt\n",
            "The best validation accuracy is=> 0.73%\n",
            "Training == done.\n",
            "## Epoch 11 is running ...\n"
          ]
        },
        {
          "output_type": "stream",
          "name": "stderr",
          "text": [
            "\r 40%|████      | 12/30 [01:49<02:38,  8.81s/it]"
          ]
        },
        {
          "output_type": "stream",
          "name": "stdout",
          "text": [
            "Accuracy on Validation Set: 0.74%\n",
            "Model saved to ==> /content/drive/MyDrive/best_model.pt\n",
            "The best validation accuracy is=> 0.74%\n",
            "Training == done.\n",
            "## Epoch 12 is running ...\n"
          ]
        },
        {
          "output_type": "stream",
          "name": "stderr",
          "text": [
            "\r 43%|████▎     | 13/30 [01:59<02:35,  9.16s/it]"
          ]
        },
        {
          "output_type": "stream",
          "name": "stdout",
          "text": [
            "Accuracy on Validation Set: 0.75%\n",
            "Model saved to ==> /content/drive/MyDrive/best_model.pt\n",
            "The best validation accuracy is=> 0.75%\n",
            "Training == done.\n",
            "## Epoch 13 is running ...\n"
          ]
        },
        {
          "output_type": "stream",
          "name": "stderr",
          "text": [
            "\r 47%|████▋     | 14/30 [02:08<02:24,  9.03s/it]"
          ]
        },
        {
          "output_type": "stream",
          "name": "stdout",
          "text": [
            "Accuracy on Validation Set: 0.75%\n",
            "Model saved to ==> /content/drive/MyDrive/best_model.pt\n",
            "The best validation accuracy is=> 0.75%\n",
            "Training == done.\n",
            "## Epoch 14 is running ...\n"
          ]
        },
        {
          "output_type": "stream",
          "name": "stderr",
          "text": [
            "\r 50%|█████     | 15/30 [02:17<02:14,  8.96s/it]"
          ]
        },
        {
          "output_type": "stream",
          "name": "stdout",
          "text": [
            "Accuracy on Validation Set: 0.76%\n",
            "Model saved to ==> /content/drive/MyDrive/best_model.pt\n",
            "The best validation accuracy is=> 0.76%\n",
            "Training == done.\n",
            "## Epoch 15 is running ...\n"
          ]
        },
        {
          "output_type": "stream",
          "name": "stderr",
          "text": [
            "\r 53%|█████▎    | 16/30 [02:25<02:05,  8.95s/it]"
          ]
        },
        {
          "output_type": "stream",
          "name": "stdout",
          "text": [
            "Accuracy on Validation Set: 0.76%\n",
            "Model saved to ==> /content/drive/MyDrive/best_model.pt\n",
            "The best validation accuracy is=> 0.76%\n",
            "Training == done.\n",
            "## Epoch 16 is running ...\n"
          ]
        },
        {
          "output_type": "stream",
          "name": "stderr",
          "text": [
            "\r 57%|█████▋    | 17/30 [02:34<01:55,  8.88s/it]"
          ]
        },
        {
          "output_type": "stream",
          "name": "stdout",
          "text": [
            "Accuracy on Validation Set: 0.76%\n",
            "Model saved to ==> /content/drive/MyDrive/best_model.pt\n",
            "The best validation accuracy is=> 0.76%\n",
            "Training == done.\n",
            "## Epoch 17 is running ...\n"
          ]
        },
        {
          "output_type": "stream",
          "name": "stderr",
          "text": [
            "\r 60%|██████    | 18/30 [02:43<01:47,  8.94s/it]"
          ]
        },
        {
          "output_type": "stream",
          "name": "stdout",
          "text": [
            "Accuracy on Validation Set: 0.76%\n",
            "Model saved to ==> /content/drive/MyDrive/best_model.pt\n",
            "The best validation accuracy is=> 0.76%\n",
            "Training == done.\n",
            "## Epoch 18 is running ...\n"
          ]
        },
        {
          "output_type": "stream",
          "name": "stderr",
          "text": [
            "\r 63%|██████▎   | 19/30 [02:53<01:42,  9.30s/it]"
          ]
        },
        {
          "output_type": "stream",
          "name": "stdout",
          "text": [
            "Accuracy on Validation Set: 0.76%\n",
            "Model saved to ==> /content/drive/MyDrive/best_model.pt\n",
            "The best validation accuracy is=> 0.76%\n",
            "Training == done.\n",
            "## Epoch 19 is running ...\n"
          ]
        },
        {
          "output_type": "stream",
          "name": "stderr",
          "text": [
            "\r 67%|██████▋   | 20/30 [03:02<01:31,  9.14s/it]"
          ]
        },
        {
          "output_type": "stream",
          "name": "stdout",
          "text": [
            "Accuracy on Validation Set: 0.76%\n",
            "Model saved to ==> /content/drive/MyDrive/best_model.pt\n",
            "The best validation accuracy is=> 0.76%\n",
            "Training == done.\n",
            "## Epoch 20 is running ...\n"
          ]
        },
        {
          "output_type": "stream",
          "name": "stderr",
          "text": [
            "\r 70%|███████   | 21/30 [03:11<01:20,  9.00s/it]"
          ]
        },
        {
          "output_type": "stream",
          "name": "stdout",
          "text": [
            "Accuracy on Validation Set: 0.77%\n",
            "Model saved to ==> /content/drive/MyDrive/best_model.pt\n",
            "The best validation accuracy is=> 0.77%\n",
            "Training == done.\n",
            "## Epoch 21 is running ...\n"
          ]
        },
        {
          "output_type": "stream",
          "name": "stderr",
          "text": [
            "\r 73%|███████▎  | 22/30 [03:19<01:11,  8.90s/it]"
          ]
        },
        {
          "output_type": "stream",
          "name": "stdout",
          "text": [
            "Accuracy on Validation Set: 0.77%\n",
            "Model saved to ==> /content/drive/MyDrive/best_model.pt\n",
            "The best validation accuracy is=> 0.77%\n",
            "Training == done.\n",
            "## Epoch 22 is running ...\n"
          ]
        },
        {
          "output_type": "stream",
          "name": "stderr",
          "text": [
            "\r 77%|███████▋  | 23/30 [03:28<01:02,  8.89s/it]"
          ]
        },
        {
          "output_type": "stream",
          "name": "stdout",
          "text": [
            "Accuracy on Validation Set: 0.77%\n",
            "Model saved to ==> /content/drive/MyDrive/best_model.pt\n",
            "The best validation accuracy is=> 0.77%\n",
            "Training == done.\n",
            "## Epoch 23 is running ...\n"
          ]
        },
        {
          "output_type": "stream",
          "name": "stderr",
          "text": [
            "\r 80%|████████  | 24/30 [03:37<00:52,  8.81s/it]"
          ]
        },
        {
          "output_type": "stream",
          "name": "stdout",
          "text": [
            "Accuracy on Validation Set: 0.77%\n",
            "Model saved to ==> /content/drive/MyDrive/best_model.pt\n",
            "The best validation accuracy is=> 0.77%\n",
            "Training == done.\n",
            "## Epoch 24 is running ...\n"
          ]
        },
        {
          "output_type": "stream",
          "name": "stderr",
          "text": [
            "\r 83%|████████▎ | 25/30 [03:47<00:45,  9.11s/it]"
          ]
        },
        {
          "output_type": "stream",
          "name": "stdout",
          "text": [
            "Accuracy on Validation Set: 0.77%\n",
            "Model saved to ==> /content/drive/MyDrive/best_model.pt\n",
            "The best validation accuracy is=> 0.77%\n",
            "Training == done.\n",
            "## Epoch 25 is running ...\n"
          ]
        },
        {
          "output_type": "stream",
          "name": "stderr",
          "text": [
            "\r 87%|████████▋ | 26/30 [03:56<00:36,  9.03s/it]"
          ]
        },
        {
          "output_type": "stream",
          "name": "stdout",
          "text": [
            "Accuracy on Validation Set: 0.77%\n",
            "Model saved to ==> /content/drive/MyDrive/best_model.pt\n",
            "The best validation accuracy is=> 0.77%\n",
            "Training == done.\n",
            "## Epoch 26 is running ...\n"
          ]
        },
        {
          "output_type": "stream",
          "name": "stderr",
          "text": [
            "\r 90%|█████████ | 27/30 [04:04<00:26,  8.97s/it]"
          ]
        },
        {
          "output_type": "stream",
          "name": "stdout",
          "text": [
            "Accuracy on Validation Set: 0.77%\n",
            "The best validation accuracy is=> 0.77%\n",
            "Training == done.\n",
            "## Epoch 27 is running ...\n"
          ]
        },
        {
          "output_type": "stream",
          "name": "stderr",
          "text": [
            "\r 93%|█████████▎| 28/30 [04:13<00:17,  8.95s/it]"
          ]
        },
        {
          "output_type": "stream",
          "name": "stdout",
          "text": [
            "Accuracy on Validation Set: 0.77%\n",
            "Model saved to ==> /content/drive/MyDrive/best_model.pt\n",
            "The best validation accuracy is=> 0.77%\n",
            "Training == done.\n",
            "## Epoch 28 is running ...\n"
          ]
        },
        {
          "output_type": "stream",
          "name": "stderr",
          "text": [
            "\r 97%|█████████▋| 29/30 [04:24<00:09,  9.34s/it]"
          ]
        },
        {
          "output_type": "stream",
          "name": "stdout",
          "text": [
            "Accuracy on Validation Set: 0.77%\n",
            "Model saved to ==> /content/drive/MyDrive/best_model.pt\n",
            "The best validation accuracy is=> 0.77%\n",
            "Training == done.\n",
            "## Epoch 29 is running ...\n"
          ]
        },
        {
          "output_type": "stream",
          "name": "stderr",
          "text": [
            "100%|██████████| 30/30 [04:33<00:00,  9.10s/it]"
          ]
        },
        {
          "output_type": "stream",
          "name": "stdout",
          "text": [
            "Accuracy on Validation Set: 0.77%\n",
            "Model saved to ==> /content/drive/MyDrive/best_model.pt\n",
            "The best validation accuracy is=> 0.77%\n",
            "Training == done.\n"
          ]
        },
        {
          "output_type": "stream",
          "name": "stderr",
          "text": [
            "\n"
          ]
        }
      ]
    },
    {
      "cell_type": "markdown",
      "source": [
        "# **Analyze the results**"
      ],
      "metadata": {
        "id": "ADP8dLVYjnHM"
      }
    },
    {
      "cell_type": "code",
      "source": [
        "from matplotlib import pyplot as plt\n",
        "\n",
        "plt.title(\"LOSS Curve\")\n",
        "\n",
        "plt.plot(plot_loss_train, label='Train Loss')\n",
        "plt.plot(plot_loss_valid, label='Validation Loss')\n",
        "\n",
        "plt.xlabel('Epoch')\n",
        "plt.ylabel('Loss')\n",
        "plt.legend(loc='upper right')\n",
        "plt.show()\n",
        "plt.savefig('/content/drive/MyDrive/gender_detection_loss_curve.png')"
      ],
      "metadata": {
        "colab": {
          "base_uri": "https://localhost:8080/",
          "height": 312
        },
        "id": "-dg6lhrkYUac",
        "outputId": "5ceff921-0bea-4429-e7e1-f11a70c4e32a"
      },
      "execution_count": 36,
      "outputs": [
        {
          "output_type": "display_data",
          "data": {
            "text/plain": [
              "<Figure size 432x288 with 1 Axes>"
            ],
            "image/png": "[encoded data removed]"
          },
          "metadata": {
            "needs_background": "light"
          }
        },
        {
          "output_type": "display_data",
          "data": {
            "text/plain": [
              "<Figure size 432x288 with 0 Axes>"
            ]
          },
          "metadata": {}
        }
      ]
    },
    {
      "cell_type": "code",
      "source": [
        "from google.colab import files\n",
        "\n",
        "files.download('/content/drive/MyDrive/gender_detection_loss_curve.png')"
      ],
      "metadata": {
        "colab": {
          "base_uri": "https://localhost:8080/",
          "height": 17
        },
        "id": "72sW4S0yoykv",
        "outputId": "b0d00e7b-92a4-4b0c-bfb3-fb20d2d7b425"
      },
      "execution_count": 37,
      "outputs": [
        {
          "output_type": "display_data",
          "data": {
            "text/plain": [
              "<IPython.core.display.Javascript object>"
            ],
            "application/javascript": [
              "\n",
              "    async function download(id, filename, size) {\n",
              "      if (!google.colab.kernel.accessAllowed) {\n",
              "        return;\n",
              "      }\n",
              "      const div = document.createElement('div');\n",
              "      const label = document.createElement('label');\n",
              "      label.textContent = `Downloading \"${filename}\": `;\n",
              "      div.appendChild(label);\n",
              "      const progress = document.createElement('progress');\n",
              "      progress.max = size;\n",
              "      div.appendChild(progress);\n",
              "      document.body.appendChild(div);\n",
              "\n",
              "      const buffers = [];\n",
              "      let downloaded = 0;\n",
              "\n",
              "      const channel = await google.colab.kernel.comms.open(id);\n",
              "      // Send a message to notify the kernel that we're ready.\n",
              "      channel.send({})\n",
              "\n",
              "      for await (const message of channel.messages) {\n",
              "        // Send a message to notify the kernel that we're ready.\n",
              "        channel.send({})\n",
              "        if (message.buffers) {\n",
              "          for (const buffer of message.buffers) {\n",
              "            buffers.push(buffer);\n",
              "            downloaded += buffer.byteLength;\n",
              "            progress.value = downloaded;\n",
              "          }\n",
              "        }\n",
              "      }\n",
              "      const blob = new Blob(buffers, {type: 'application/binary'});\n",
              "      const a = document.createElement('a');\n",
              "      a.href = window.URL.createObjectURL(blob);\n",
              "      a.download = filename;\n",
              "      div.appendChild(a);\n",
              "      a.click();\n",
              "      div.remove();\n",
              "    }\n",
              "  "
            ]
          },
          "metadata": {}
        },
        {
          "output_type": "display_data",
          "data": {
            "text/plain": [
              "<IPython.core.display.Javascript object>"
            ],
            "application/javascript": [
              "download(\"download_cc3451b6-f763-4ea2-bad7-afb80c847a26\", \"gender_detection_loss_curve.png\", 1273)"
            ]
          },
          "metadata": {}
        }
      ]
    },
    {
      "cell_type": "code",
      "source": [
        "name = 'helia'\n",
        "name_tensor = torch.tensor([indexing(name, CHAR2INDEX)], dtype=torch.int).to(DEVICE)\n",
        "print(name_tensor.size())\n",
        "prediction = MODEL(name_tensor)\n",
        "print(prediction)\n",
        "prediction = torch.round(prediction).item()\n",
        "print(prediction)\n",
        "print(f'The Gender is => {INDEX2LABEL[prediction]}')"
      ],
      "metadata": {
        "colab": {
          "base_uri": "https://localhost:8080/"
        },
        "id": "bAAOXFI7bXRl",
        "outputId": "bf96d7b7-6c9d-4955-8b3a-fcaed08937c6"
      },
      "execution_count": 42,
      "outputs": [
        {
          "output_type": "stream",
          "name": "stdout",
          "text": [
            "torch.Size([1, 5])\n",
            "tensor([0.8957], device='cuda:0', grad_fn=<SigmoidBackward0>)\n",
            "1.0\n",
            "The Gender is => F\n"
          ]
        }
      ]
    },
    {
      "cell_type": "markdown",
      "source": [
        "# **Test Set**"
      ],
      "metadata": {
        "id": "F6O5Gh5VtwqD"
      }
    },
    {
      "cell_type": "code",
      "source": [
        "MODEL.eval()\n",
        "\n",
        "with torch.no_grad():\n",
        "    test_true_labels = []\n",
        "    test_predicted_labels = []\n",
        "\n",
        "    for batch in DATALOADER_TEST:\n",
        "        DATA_BATCH, LABEL_BATCH = batch\n",
        "\n",
        "        DATA_BATCH = DATA_BATCH.to(DEVICE)\n",
        "        LABEL_BATCH = LABEL_BATCH.to(DEVICE)\n",
        "\n",
        "        out = MODEL(DATA_BATCH)\n",
        "\n",
        "        test_true_labels.extend(LABEL_BATCH.tolist())\n",
        "        test_predicted_labels.extend(torch.round(out).tolist())\n",
        "\n",
        "    ACCURACY = binary_acc(y_pred=test_predicted_labels, y_test=test_true_labels)\n",
        "\n",
        "    print(f'Accuracy on Test Set is {ACCURACY :.2f}%')\n"
      ],
      "metadata": {
        "colab": {
          "base_uri": "https://localhost:8080/"
        },
        "id": "RDvvkrtLtv9n",
        "outputId": "5f9d3cb9-83bd-4766-f383-752fe7f7704b"
      },
      "execution_count": 39,
      "outputs": [
        {
          "output_type": "stream",
          "name": "stdout",
          "text": [
            "Accuracy on Test Set is 0.78%\n"
          ]
        }
      ]
    }
  ],
  "metadata": {
    "accelerator": "GPU",
    "colab": {
      "provenance": []
    },
    "gpuClass": "standard",
    "kernelspec": {
      "display_name": "Python 3",
      "name": "python3"
    },
    "language_info": {
      "name": "python"
    }
  },
  "nbformat": 4,
  "nbformat_minor": 0
}